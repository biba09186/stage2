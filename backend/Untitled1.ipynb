{
 "cells": [
  {
   "cell_type": "code",
   "execution_count": null,
   "id": "76677fed-8767-4cb1-b1a2-e2b67fc30b13",
   "metadata": {},
   "outputs": [],
   "source": [
    "!pip install ultralytics roboflow \n"
   ]
  },
  {
   "cell_type": "code",
   "execution_count": null,
   "id": "804120e8-5e09-4f65-9a46-56dd5c297d6e",
   "metadata": {},
   "outputs": [],
   "source": [
    "pip install torch torchvision flask flask_sqlalchemy flask_cors flask_migrate pillow opencv-python"
   ]
  },
  {
   "cell_type": "code",
   "execution_count": null,
   "id": "7dc11ea3-4f29-480f-943b-87dbd47410e7",
   "metadata": {},
   "outputs": [],
   "source": [
    "pip install -r yolov5/requirements.txt"
   ]
  },
  {
   "cell_type": "code",
   "execution_count": null,
   "id": "349d302b-78b3-4f3c-a2a8-f45251618a8b",
   "metadata": {},
   "outputs": [],
   "source": []
  }
 ],
 "metadata": {
  "kernelspec": {
   "display_name": "Python 3 (ipykernel)",
   "language": "python",
   "name": "python3"
  },
  "language_info": {
   "codemirror_mode": {
    "name": "ipython",
    "version": 3
   },
   "file_extension": ".py",
   "mimetype": "text/x-python",
   "name": "python",
   "nbconvert_exporter": "python",
   "pygments_lexer": "ipython3",
   "version": "3.13.2"
  }
 },
 "nbformat": 4,
 "nbformat_minor": 5
}
